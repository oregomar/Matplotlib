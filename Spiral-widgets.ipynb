{
 "cells": [
  {
   "cell_type": "code",
   "execution_count": null,
   "metadata": {},
   "outputs": [],
   "source": [
    "%matplotlib inline\n",
    "import numpy as np\n",
    "import matplotlib.pyplot as plt\n",
    "from ipywidgets import interact"
   ]
  },
  {
   "cell_type": "markdown",
   "metadata": {},
   "source": [
    "$${dy\\over dx} = {v(x,y)\\over u(x,y)}$$\n",
    "\n",
    "$$ {v(x,y)= \\zeta * y - \\delta * x - f1 * y + f2 * x}$$\n",
    "$$ {u(x,y)= -\\zeta  * y - \\delta * x + f1 * x +  f2 * y} $$\n",
    "\n",
    "$$ V(x,y)= u(x,y)i +v(x,y)j$$"
   ]
  },
  {
   "cell_type": "code",
   "execution_count": null,
   "metadata": {},
   "outputs": [],
   "source": [
    "def espiral (Vot=.8,Div=.5,f1=.3,f2=.1):\n",
    "    # make data    \n",
    "    x = np.linspace(-5, 5, 11)\n",
    "    y = np.linspace(-5, 5, 11)\n",
    "\n",
    "    X, Y = np.meshgrid( x, y )\n",
    "\n",
    "    U = -Vot*Y - Div*X + f1*X + f2*X\n",
    "    V = -Div*Y + Vot*X - f1*Y + f2*X\n",
    "\n",
    "    # plot\n",
    "    fig, ax = plt.subplots(1,2,figsize=(8,4))\n",
    "\n",
    "    ax[0].quiver(X, Y, U, V, color=\"C0\", angles='xy', scale_units='xy', scale=2, width=.005)\n",
    "\n",
    "    ax[1].streamplot(X, Y, U, V)\n",
    "\n",
    "    plt.show()    "
   ]
  },
  {
   "cell_type": "code",
   "execution_count": null,
   "metadata": {
    "scrolled": false
   },
   "outputs": [],
   "source": [
    "espiral()\n",
    "interact(espiral,Vot=(-1.0,1.0),Div=(-1.0,1.0),f1=(-1.0,1.0),f2=(-1.0,1.0))\n"
   ]
  }
 ],
 "metadata": {
  "kernelspec": {
   "display_name": "Python 3 (ipykernel)",
   "language": "python",
   "name": "python3"
  },
  "language_info": {
   "codemirror_mode": {
    "name": "ipython",
    "version": 3
   },
   "file_extension": ".py",
   "mimetype": "text/x-python",
   "name": "python",
   "nbconvert_exporter": "python",
   "pygments_lexer": "ipython3",
   "version": "3.10.11"
  }
 },
 "nbformat": 4,
 "nbformat_minor": 2
}
