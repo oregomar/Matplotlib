{
 "cells": [
  {
   "cell_type": "code",
   "execution_count": 5,
   "metadata": {},
   "outputs": [],
   "source": [
    "%matplotlib inline\n",
    "import numpy as np\n",
    "import matplotlib.pyplot as plt\n",
    "from ipywidgets import interact"
   ]
  },
  {
   "cell_type": "markdown",
   "metadata": {},
   "source": [
    "$${dy\\over dx} = {v(x,y)\\over u(x,y)}$$\n",
    "\n",
    "$$ v(x,y)= \\delta * y - \\zeta * x + f2 * y + f1 * x $$\n",
    "$$ u(x,y)= \\zeta  * y + \\delta * x + f1 * y - f2 * x $$\n",
    "\n",
    "$$ V(x,y)= u(x,y)i +v(x,y)j$$"
   ]
  },
  {
   "cell_type": "code",
   "execution_count": 13,
   "metadata": {},
   "outputs": [],
   "source": [
    "def espiral (Vot=.8,Div=.4,f1=.2,f2=.1):\n",
    "    # make data    \n",
    "    x = np.linspace(-5, 5, 11)\n",
    "    y = np.linspace(-5, 5, 11)\n",
    "\n",
    "    X, Y = np.meshgrid( x, y )\n",
    "\n",
    "    U = Vot*Y + Div*X + f1*Y - f2*X\n",
    "    V = Div*Y - Vot*X + f2*Y + f1*X\n",
    "\n",
    "    # plot\n",
    "    fig, ax = plt.subplots(1,2,figsize=(8,4))\n",
    "\n",
    "    ax[0].quiver(X, Y, -U, -V, color=\"C0\", angles='xy', scale_units='xy', scale=2, width=.005)\n",
    "\n",
    "    ax[1].streamplot(X, Y, -U, -V)\n",
    "\n",
    "    plt.show()    "
   ]
  },
  {
   "cell_type": "code",
   "execution_count": 14,
   "metadata": {
    "scrolled": false
   },
   "outputs": [
    {
     "data": {
      "application/vnd.jupyter.widget-view+json": {
       "model_id": "6beeab0b94ee4f5b92e2a95407c4732e",
       "version_major": 2,
       "version_minor": 0
      },
      "text/plain": [
       "interactive(children=(FloatSlider(value=0.8, description='Vot', max=0.99), FloatSlider(value=0.4, description=…"
      ]
     },
     "metadata": {},
     "output_type": "display_data"
    },
    {
     "data": {
      "text/plain": [
       "<function __main__.espiral(Vot=0.8, Div=0.4, f1=0.2, f2=0.1)>"
      ]
     },
     "execution_count": 14,
     "metadata": {},
     "output_type": "execute_result"
    }
   ],
   "source": [
    "interact(espiral,Vot=(0.0,0.99),Div=(0.0,0.99),f1=(0.0,0.99),f2=(0.0,0.99))\n",
    "\n"
   ]
  },
  {
   "cell_type": "code",
   "execution_count": null,
   "metadata": {},
   "outputs": [],
   "source": []
  }
 ],
 "metadata": {
  "kernelspec": {
   "display_name": "Python 3",
   "language": "python",
   "name": "python3"
  },
  "language_info": {
   "codemirror_mode": {
    "name": "ipython",
    "version": 3
   },
   "file_extension": ".py",
   "mimetype": "text/x-python",
   "name": "python",
   "nbconvert_exporter": "python",
   "pygments_lexer": "ipython3",
   "version": "3.6.5"
  }
 },
 "nbformat": 4,
 "nbformat_minor": 2
}
