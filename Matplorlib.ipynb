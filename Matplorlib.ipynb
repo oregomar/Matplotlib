{
 "cells": [
  {
   "cell_type": "code",
   "execution_count": 1,
   "metadata": {},
   "outputs": [],
   "source": [
    "%matplotlib inline"
   ]
  },
  {
   "cell_type": "code",
   "execution_count": 2,
   "metadata": {},
   "outputs": [],
   "source": [
    "import numpy as np\n",
    "import matplotlib.pyplot as plt\n",
    "from matplotlib import cm\n",
    "from mpl_toolkits.mplot3d import axes3d\n"
   ]
  },
  {
   "cell_type": "markdown",
   "metadata": {},
   "source": [
    "$$f(x) = e^{-x^2}$$ "
   ]
  },
  {
   "cell_type": "code",
   "execution_count": 3,
   "metadata": {},
   "outputs": [],
   "source": [
    "def f(x):\n",
    "    return np.exp( -x ** 2 )"
   ]
  },
  {
   "cell_type": "code",
   "execution_count": 4,
   "metadata": {},
   "outputs": [],
   "source": [
    "x = np.linspace(-1,5, num = 50)"
   ]
  },
  {
   "cell_type": "code",
   "execution_count": 5,
   "metadata": {},
   "outputs": [
    {
     "data": {
      "image/png": "[encoded data removed]",
      "text/plain": [
       "<Figure size 640x480 with 1 Axes>"
      ]
     },
     "metadata": {},
     "output_type": "display_data"
    }
   ],
   "source": [
    "plt.plot(x, f(x), 'xg')\n",
    "plt.xlabel(\"Eje X\")\n",
    "plt.ylabel(\"f(x)\")\n",
    "plt.grid(True)"
   ]
  },
  {
   "cell_type": "code",
   "execution_count": 6,
   "metadata": {},
   "outputs": [],
   "source": [
    "r=f(x)"
   ]
  },
  {
   "cell_type": "code",
   "execution_count": 7,
   "metadata": {},
   "outputs": [
    {
     "data": {
      "text/plain": [
       "[<matplotlib.lines.Line2D at 0x7ff0acfd8700>]"
      ]
     },
     "execution_count": 7,
     "metadata": {},
     "output_type": "execute_result"
    },
    {
     "data": {
      "image/png": "[encoded data removed]",
      "text/plain": [
       "<Figure size 640x480 with 1 Axes>"
      ]
     },
     "metadata": {},
     "output_type": "display_data"
    }
   ],
   "source": [
    "fig, ax = plt.subplots()\n",
    "plt.grid(True)\n",
    "ax.plot(x, f(x), 'or')"
   ]
  },
  {
   "cell_type": "code",
   "execution_count": null,
   "metadata": {},
   "outputs": [],
   "source": [
    "fig, ax = plt.subplots(1,2,sharey=True)\n",
    "ax[0].grid(True)\n",
    "ax[1].grid(True)\n",
    "ax[0].plot(x, f(x), '--g')\n",
    "ax[1].plot(x, -f(x), '--r')"
   ]
  },
  {
   "cell_type": "code",
   "execution_count": null,
   "metadata": {},
   "outputs": [],
   "source": [
    "x= np.random.randn(100)\n",
    "y= np.random.randn(100)\n",
    "z= 100-np.random.randn(55)\n",
    "c= np.random.randn(100)\n",
    "\n",
    "plt.scatter(x, y, z, c, cmap=plt.cm.BrBG)\n",
    "\n",
    "plt.grid(True)"
   ]
  },
  {
   "cell_type": "markdown",
   "metadata": {},
   "source": [
    "$$g(x,y)=\\cos(x)+\\sin(y)^2$$"
   ]
  },
  {
   "cell_type": "code",
   "execution_count": null,
   "metadata": {},
   "outputs": [],
   "source": [
    "x = np.linspace( -2, 2)\n",
    "y = np.linspace( -2, 2)\n",
    "X, Y = np.meshgrid( x, y)\n",
    "\n",
    "def g(x,y):\n",
    "        return np.cos(x) + np.sin(y) ** 2\n"
   ]
  },
  {
   "cell_type": "code",
   "execution_count": null,
   "metadata": {},
   "outputs": [],
   "source": [
    "Z = g(X, Y)"
   ]
  },
  {
   "cell_type": "code",
   "execution_count": null,
   "metadata": {},
   "outputs": [],
   "source": [
    "fig, ax= plt.subplots(1,2,sharey=True)\n",
    "\n",
    "ax[0].contour(X,Y,Z,cmap=cm.coolwarm)\n",
    "ax[1].contourf(X,Y,Z,cmap=cm.coolwarm)\n",
    "               \n",
    "fig = plt.figure( figsize=(10,5))            \n",
    "ax=fig.gca(projection='3d')\n",
    "ax.plot_surface(X, Y, Z, cmap=cm.coolwarm)\n",
    "ax.view_init(65, 25)             \n",
    "               \n",
    "               "
   ]
  },
  {
   "cell_type": "markdown",
   "metadata": {},
   "source": [
    "$$z={( 1-x / 2 + x^5 + y^3 )}.e^{x^2 + y^2}$$"
   ]
  },
  {
   "cell_type": "code",
   "execution_count": null,
   "metadata": {
    "scrolled": false
   },
   "outputs": [],
   "source": [
    "X, Y = np.meshgrid(np.linspace(-5, 5, 250), np.linspace(-5, 5, 250))\n",
    "Z = (1 - X/2 + X**5 + Y**3) * np.exp(-X**2 - Y**2)\n",
    "\n",
    "fig, ax= plt.subplots(1,3,sharey=True,figsize=(15,4))\n",
    "\n",
    "ax[0].contour(X,Y,Z)\n",
    "ax[1].contourf(X,Y,Z)\n",
    "\n",
    "V = np.diff(Z[1:, :], axis=1)\n",
    "U = -np.diff(Z[:, 1:], axis=0)\n",
    "\n",
    "ax[2].streamplot(X[1:, 1:], Y[1:, 1:], U, V)\n",
    "\n",
    "fig, ax=plt.subplots(figsize=(8,7))\n",
    "\n",
    "ax.streamplot(X[1:, 1:], Y[1:, 1:], U, V, color=\"k\", density=0.6)\n",
    "\n",
    "W = ax.contourf(X, Y, Z)\n",
    "\n",
    "plt.colorbar( W )\n",
    "\n",
    "fig = plt.figure(figsize=(10,8))\n",
    "\n",
    "ax=fig.gca(projection='3d')\n",
    "ax.plot_wireframe(X, Y, Z)\n",
    "ax.view_init(35, -105)\n"
   ]
  },
  {
   "cell_type": "markdown",
   "metadata": {},
   "source": [
    "# Spiral"
   ]
  },
  {
   "cell_type": "markdown",
   "metadata": {},
   "source": []
  },
  {
   "cell_type": "code",
   "execution_count": null,
   "metadata": {},
   "outputs": [],
   "source": [
    "U = 0.9*Y + 0.1*X + 0.9*Y + 0.8*X\n",
    "V = 0.1*Y - 0.9*X + 0.8*Y - 0.9*X\n",
    "\n",
    "R = np.sqrt(X**2 + Y**2)\n",
    "Z = R/2 - np.exp(-R**2)\n",
    "\n",
    "fig = plt.figure(figsize=(30,10))\n",
    "\n",
    "ax = fig.add_subplot(1, 3, 1, projection='3d')\n",
    "ax.plot_surface(X, Y, Z)\n",
    "ax.view_init(35, 25)  \n",
    "\n",
    "ax = fig.add_subplot(1, 3, 2, projection='3d')\n",
    "ax.contourf(X,Y,Z)\n",
    "ax.view_init(45, 25)             \n",
    "\n",
    "\n",
    "ax = fig.add_subplot(1, 3, 3, projection='3d')\n",
    "ax.plot_wireframe(X, Y, Z, color='k')\n",
    "ax.view_init(40, 25)\n",
    "\n",
    "fig, ax= plt.subplots(1,3,figsize=(15,4))\n",
    "\n",
    "ax[0].streamplot(X, Y, -U, -V)\n",
    "ax[0].set_title(\"lineas de corrientes\")\n",
    "ax[1].contourf(X, Y, Z)\n",
    "ax[1].set_title(\"Intencidad\")\n",
    "\n",
    "X, Y = np.meshgrid(np.linspace(-5, 5, 11),np.linspace(-5, 5, 11))\n",
    "\n",
    "U = 0.9*Y + 0.1*X + 0.9*Y + 0.8*X\n",
    "V = 0.1*Y - 0.9*X + 0.8*Y - 0.9*X\n",
    "\n",
    "Rvmx = 25\n",
    "Vmax = 140\n",
    "\n",
    "R = (X**2 + Y**2)**0.5 + Rvmx\n",
    "Z = Vmax/R**2\n",
    "\n",
    "\n",
    "ax[2].quiver(X, Y, -U, -V, color=\"C0\", angles='xy', scale_units='xy', scale=9, width=.005)\n",
    "ax[2].set_title(\"direcciones\")                  "
   ]
  },
  {
   "cell_type": "code",
   "execution_count": null,
   "metadata": {},
   "outputs": [],
   "source": [
    "tablero = np.zeros([8, 8], dtype=int)\n",
    "\n",
    "tablero[1::2, ::2] = 1\n",
    "tablero[::2, 1::2] = 1\n",
    "\n",
    "\n",
    "plt.matshow(tablero, cmap=plt.cm.gray_r)\n",
    "\n",
    "tablero"
   ]
  },
  {
   "cell_type": "code",
   "execution_count": null,
   "metadata": {},
   "outputs": [],
   "source": [
    "datos = np.loadtxt(\"temperaturas.csv\", usecols=(1,2,3), skiprows=1, delimiter=',')\n",
    "\n",
    "fig, ax = plt.subplots()\n",
    "x = np.arange(len(datos[:,1]))\n",
    "media = (datos[:,1]+ datos[:,2])/2\n",
    "ax.plot(x,datos[:,1],'r')\n",
    "ax.plot(x,datos[:,2],'b')\n",
    "ax.plot(x,media,'k')\n",
    "\n",
    "ax.grid(True)\n"
   ]
  },
  {
   "cell_type": "code",
   "execution_count": null,
   "metadata": {},
   "outputs": [],
   "source": []
  }
 ],
 "metadata": {
  "kernelspec": {
   "display_name": "Python 3 (ipykernel)",
   "language": "python",
   "name": "python3"
  },
  "language_info": {
   "codemirror_mode": {
    "name": "ipython",
    "version": 3
   },
   "file_extension": ".py",
   "mimetype": "text/x-python",
   "name": "python",
   "nbconvert_exporter": "python",
   "pygments_lexer": "ipython3",
   "version": "3.10.11"
  }
 },
 "nbformat": 4,
 "nbformat_minor": 2
}
